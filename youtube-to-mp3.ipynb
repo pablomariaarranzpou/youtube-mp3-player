{
 "cells": [
  {
   "cell_type": "code",
   "execution_count": null,
   "metadata": {},
   "outputs": [],
   "source": [
    "from flask import Flask, request, Response\n",
    "import re\n",
    "import vlc\n",
    "import youtube_dl \n",
    "from youtube_search import YoutubeSearch\n",
    "\n",
    "def make_soup(url):\n",
    "    html = urlopen(url)\n",
    "    return BeautifulSoup(html, 'lxml')\n",
    "\n",
    "def busca_link(song_name):\n",
    "    words = song_name.split()\n",
    "    url = \"https://www.youtube.com/watch?v=\"\n",
    "    results = YoutubeSearch(song_name, max_results=1).to_dict()\n",
    "    url+= str(results[0]['id'])\n",
    "    return url\n",
    "\n",
    "\n",
    "def reproducir():\n",
    "    ydl = youtube_dl.YoutubeDL({'outtmpl': '%(id)s.%(ext)s'})\n",
    "    busqueda = str(input(\"Busca canción:\"))\n",
    "    link = busca_link(busqueda)\n",
    "    result = ydl.extract_info(link,download=False)\n",
    "\n",
    "\n",
    "    video = result\n",
    "\n",
    "    for format in video['formats']:\n",
    "        if format['ext'] == 'm4a':\n",
    "            audio_url = format['url']\n",
    "            break\n",
    "        \n",
    "    p = vlc.MediaPlayer(audio_url)\n",
    "    p.play()\n",
    "    \n",
    "\n",
    "reproducir()"
   ]
  }
 ],
 "metadata": {
  "kernelspec": {
   "display_name": "Python 3",
   "language": "python",
   "name": "python3"
  },
  "language_info": {
   "codemirror_mode": {
    "name": "ipython",
    "version": 3
   },
   "file_extension": ".py",
   "mimetype": "text/x-python",
   "name": "python",
   "nbconvert_exporter": "python",
   "pygments_lexer": "ipython3",
   "version": "3.8.3"
  }
 },
 "nbformat": 4,
 "nbformat_minor": 4
}
